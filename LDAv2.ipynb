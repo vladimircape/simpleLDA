{
 "cells": [
  {
   "cell_type": "code",
   "execution_count": 27,
   "metadata": {
    "collapsed": true
   },
   "outputs": [],
   "source": [
    "from gensim import corpora\n",
    "from gensim.models import LdaModel\n",
    "import re,pickle,numpy"
   ]
  },
  {
   "cell_type": "code",
   "execution_count": 28,
   "metadata": {
    "collapsed": false
   },
   "outputs": [],
   "source": [
    "dictionary = corpora.Dictionary.load('LDA-dev.model.dict')\n",
    "Lda = LdaModel.load('LDA-dev.model')\n",
    "file = open('LDA-dev.model.stopwords.p', 'rb')\n",
    "stopwords = pickle.load(file)\n",
    "file.close()"
   ]
  },
  {
   "cell_type": "code",
   "execution_count": 29,
   "metadata": {
    "collapsed": false
   },
   "outputs": [
    {
     "data": {
      "text/plain": [
       "<gensim.corpora.dictionary.Dictionary at 0x7f472bc05f60>"
      ]
     },
     "execution_count": 29,
     "metadata": {},
     "output_type": "execute_result"
    }
   ],
   "source": [
    "dictionary"
   ]
  },
  {
   "cell_type": "code",
   "execution_count": 30,
   "metadata": {
    "collapsed": true
   },
   "outputs": [],
   "source": [
    "punctuation_string = ', . ! ? '\n",
    "def getTopicForQuery (question):\n",
    "    temp = question.lower()    \n",
    "    for i in range(len(punctuation_string)):\n",
    "        temp = temp.replace(punctuation_string[i], ' ')\n",
    "\n",
    "    words = re.findall(r'\\w+', temp, flags = re.UNICODE | re.LOCALE)\n",
    "    \n",
    "    important_words = []\n",
    "    important_words = filter(lambda x: x not in stopwords, words)\n",
    "\n",
    "    ques_vec = []\n",
    "    ques_vec = dictionary.doc2bow(important_words)    \n",
    "    \n",
    "    topic_vec = []\n",
    "    topic_vec = Lda[ques_vec]\n",
    "\n",
    "    word_count_array = numpy.empty((len(topic_vec), 2), dtype = numpy.object)\n",
    "    for i in range(len(topic_vec)):\n",
    "        word_count_array[i, 0] = topic_vec[i][0]\n",
    "        word_count_array[i, 1] = topic_vec[i][1]\n",
    "\n",
    "    idx = numpy.argsort(word_count_array[:, 1])    \n",
    "    idx = idx[::-1]\n",
    "    word_count_array = word_count_array[idx]    \n",
    "    \n",
    "    final = Lda.print_topic(word_count_array[0, 0], 6)\n",
    "    question_topic = ''\n",
    "    for element in final.split(' + '):\n",
    "        temp = element.split('*\"')[1][:-1]\n",
    "        question_topic+=\" \"+temp\n",
    "\n",
    "    return topic_vec[0][0],question_topic"
   ]
  },
  {
   "cell_type": "code",
   "execution_count": 31,
   "metadata": {
    "collapsed": false
   },
   "outputs": [
    {
     "data": {
      "text/plain": [
       "(92, ' swiss franc ollongren snb chamber chf')"
      ]
     },
     "execution_count": 31,
     "metadata": {},
     "output_type": "execute_result"
    }
   ],
   "source": [
    "test = \"swiss, franc, ollongren, snb, chamber, chf, witnesses, examine, answers, lelystad\"\n",
    "getTopicForQuery(test)"
   ]
  },
  {
   "cell_type": "code",
   "execution_count": null,
   "metadata": {
    "collapsed": true
   },
   "outputs": [],
   "source": []
  }
 ],
 "metadata": {
  "kernelspec": {
   "display_name": "Python [conda root]",
   "language": "python",
   "name": "conda-root-py"
  },
  "language_info": {
   "codemirror_mode": {
    "name": "ipython",
    "version": 3
   },
   "file_extension": ".py",
   "mimetype": "text/x-python",
   "name": "python",
   "nbconvert_exporter": "python",
   "pygments_lexer": "ipython3",
   "version": "3.5.2"
  }
 },
 "nbformat": 4,
 "nbformat_minor": 1
}
